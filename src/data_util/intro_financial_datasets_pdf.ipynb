{
  "cells": [
    {
      "cell_type": "code",
      "execution_count": 2,
      "metadata": {
        "colab": {
          "base_uri": "https://localhost:8080/"
        },
        "id": "vsJyf3MU9B-w",
        "outputId": "fd329f16-ab10-492d-e6b0-e209d9b86fcc"
      },
      "outputs": [
        {
          "name": "stdout",
          "output_type": "stream",
          "text": [
            "^C\n"
          ]
        },
        {
          "name": "stderr",
          "output_type": "stream",
          "text": [
            "ERROR: pip's dependency resolver does not currently take into account all the packages that are installed. This behaviour is the source of the following dependency conflicts.\n",
            "trading-strategy 0.14 requires pandas<2.0.0,>=1.3.5, but you have pandas 2.2.0 which is incompatible.\n",
            "trading-strategy 0.14 requires pyarrow==10.0.1, but you have pyarrow 19.0.1 which is incompatible.\n"
          ]
        }
      ],
      "source": [
        "# !pip install -U -q financial-datasets\n",
        "# from google.colab import drive\n",
        "# drive.mount('/content/drive')\n",
        "# output_path = '/content/drive/MyDrive/NUS_LLM_2024_25'"
      ]
    },
    {
      "cell_type": "code",
      "execution_count": 2,
      "metadata": {
        "colab": {
          "base_uri": "https://localhost:8080/"
        },
        "id": "-2lRJziCqqkB",
        "outputId": "ff736116-79f8-4009-b4e3-c12155c2f6be"
      },
      "outputs": [],
      "source": [
        "import getpass\n",
        "import os\n",
        "\n",
        "# For GPT-4\n",
        "os.environ[\"OPENAI_API_KEY\"] = getpass.getpass()\n"
      ]
    },
    {
      "cell_type": "code",
      "execution_count": 3,
      "metadata": {
        "id": "_HEpHWjeC0i2"
      },
      "outputs": [],
      "source": [
        "import getpass\n",
        "import os\n",
        "from financial_datasets.generator import DatasetGenerator\n",
        "import json\n",
        "\n",
        "# Create the dataset generator\n",
        "generator = DatasetGenerator(\n",
        "   model=\"gpt-4o-mini-2024-07-18\",\n",
        "   api_key=os.environ[\"OPENAI_API_KEY\"],\n",
        ")"
      ]
    },
    {
      "cell_type": "code",
      "execution_count": null,
      "metadata": {
        "colab": {
          "base_uri": "https://localhost:8080/"
        },
        "id": "Bj1bYhcitL61",
        "outputId": "3d428812-8fb1-46ad-d1ed-308b49330b64"
      },
      "outputs": [
        {
          "name": "stdout",
          "output_type": "stream",
          "text": [
            "Processing: https://www2.deloitte.com/content/dam/Deloitte/us/Documents/risk/us-aers-compliance%20riskassessments-02192015.pdf\n"
          ]
        },
        {
          "name": "stderr",
          "output_type": "stream",
          "text": [
            "Generating questions: 101it [01:14,  1.36it/s]                        1.11it/s]\n"
          ]
        },
        {
          "name": "stdout",
          "output_type": "stream",
          "text": [
            "Processing: https://www.raise.sg/images/Media2024/raiSE-2024---CMS-CRM-INVITATION-TO-TENDER.pdf\n"
          ]
        },
        {
          "name": "stderr",
          "output_type": "stream",
          "text": [
            "Generating questions: 100%|\u001b[32m██████████\u001b[0m| 100/100 [02:26<00:00,  1.46s/it]\n"
          ]
        },
        {
          "name": "stdout",
          "output_type": "stream",
          "text": [
            "Processing: https://content.aia.org/sites/default/files/2017-03/EPC_Bidding_Contract_Neg_3A.pdf\n"
          ]
        },
        {
          "name": "stderr",
          "output_type": "stream",
          "text": [
            "Generating questions: 100%|\u001b[32m██████████\u001b[0m| 100/100 [01:48<00:00,  1.08s/it]\n"
          ]
        },
        {
          "name": "stdout",
          "output_type": "stream",
          "text": [
            "Processing: https://s203.q4cdn.com/326826266/files/doc_financials/2024/ar/Starbucks-2025-Proxy-Statement.pdf\n"
          ]
        },
        {
          "name": "stderr",
          "output_type": "stream",
          "text": [
            "Generating questions: 100%|\u001b[32m██████████\u001b[0m| 100/100 [05:07<00:00,  3.07s/it]\n"
          ]
        },
        {
          "name": "stdout",
          "output_type": "stream",
          "text": [
            "Processing: https://images.samsung.com/is/content/samsung/assets/global/ir/docs/2022-4q-Business-Report.pdf\n"
          ]
        },
        {
          "name": "stderr",
          "output_type": "stream",
          "text": [
            "Generating questions: 100%|\u001b[32m██████████\u001b[0m| 100/100 [04:24<00:00,  2.65s/it]\n"
          ]
        }
      ],
      "source": [
        "urls1 = [\n",
        "    \"https://www.brethren.org/ac2023/wp-content/uploads/sites/20/2023/04/2.-Report-of-Eder-Financial.pdf\",\n",
        "    \"https://www.grantthornton.global/globalassets/1.-member-firms/global/insights/article-pdfs/ifrs/ifrs-example-financial-statements-2021_2.pdf\",\n",
        "    \"https://www.keppel.com/file/investor-relations/annual-reports/keppel-corporation-ar-22-full-report.pdf\",\n",
        "    \"https://www.wipo.int/edocs/pubdocs/en/wipo_pub_rn2021_18e.pdf\",\n",
        "    \"https://investor.qantas.com/FormBuilder/_Resource/_module/doLLG5ufYkCyEPjF1tpgyw/file/annual-reports/2024-Annual-Report.pdf\",\n",
        "    \"https://www.sanofi.com/assets/dotcom/content-app/publications/esg-reports/sustainability-statement-2024--ESG-Report-.pdf\",\n",
        "    \"https://www.pwc.com/sg/en/publications/assets/page/financial-statements-2024.pdf\",\n",
        "    \"https://static.www.tencent.com/uploads/2021/04/08/960eae1f18dd716fd3a7d704e123d7a5.pdf\",\n",
        "    \"https://newsroom.porsche.com/files/Corporate_Governance_2024_Porsche_AG_EN.pdf\",\n",
        "    \"https://www.ifrs.org/content/dam/ifrs/publications/pdf-standards/english/2021/issued/part-a/conceptual-framework-for-financial-reporting.pdf\",\n",
        "    \"https://www.ecb.europa.eu/pub/pdf/other/governmentfinancestatisticsguide201408en.pdf\",\n",
        "    \"https://www.imf.org/external/Pubs/FT/GFS/Manual/2014/gfsfinal.pdf\",\n",
        "    \"https://www.jieyu.ai/assets/ebooks/RoadmapUltimateEdition.pdf\",\n",
        "    \"https://assets.kpmg.com/content/dam/kpmg/at/images/Themen/corporate-risk-management/enterprise-risk-management-protecting-and-enhancing-value.pdf\",\n",
        "    \"https://www.mckinsey.com/~/media/McKinsey/Business%20Functions/Risk/Our%20Insights/Enterprise%20risk%20management%20Whats%20different%20in%20the%20corporate%20world/Enterprise%20risk%20management%20Whats%20different%20in%20the%20corporate%20world.pdf\",\n",
        "    \"https://www2.deloitte.com/content/dam/Deloitte/us/Documents/risk/us-aers-compliance%20riskassessments-02192015.pdf\",\n",
        "    \"https://www.raise.sg/images/Media2024/raiSE-2024---CMS-CRM-INVITATION-TO-TENDER.pdf\",\n",
        "    \"https://content.aia.org/sites/default/files/2017-03/EPC_Bidding_Contract_Neg_3A.pdf\",\n",
        "    \"https://s203.q4cdn.com/326826266/files/doc_financials/2024/ar/Starbucks-2025-Proxy-Statement.pdf\",\n",
        "    \"https://images.samsung.com/is/content/samsung/assets/global/ir/docs/2022-4q-Business-Report.pdf\"\n",
        "]\n",
        "\n",
        "max_question = 100\n",
        "all_data = []\n",
        "\n",
        "# Loop through each URL and generate dataset\n",
        "for url in urls:\n",
        "    print(f\"Processing: {url}\")\n",
        "    dataset = generator.generate_from_pdf(url=url, max_questions=max_question)\n",
        "\n",
        "    formatted_data = [\n",
        "        {\n",
        "            \"Question\": item.question,\n",
        "            \"Answer\": item.answer,\n",
        "            \"Context\": item.context\n",
        "        }\n",
        "        for item in dataset.items\n",
        "    ]\n",
        "\n",
        "    # Append results to all_data\n",
        "    all_data.extend(formatted_data)\n"
      ]
    },
    {
      "cell_type": "code",
      "execution_count": null,
      "metadata": {},
      "outputs": [],
      "source": [
        "with open(f\"multiple_datasets.json\", \"w\", encoding=\"utf-8\") as f:\n",
        "    json.dump(all_data, f, indent=4, ensure_ascii=False)\n",
        "\n",
        "# print(json.dumps(all_data, indent=4, ensure_ascii=False))\n"
      ]
    },
    {
      "cell_type": "code",
      "execution_count": 17,
      "metadata": {},
      "outputs": [
        {
          "name": "stdout",
          "output_type": "stream",
          "text": [
            "Combined JSON file created successfully!\n"
          ]
        }
      ],
      "source": [
        "import json\n",
        "\n",
        "# List of your JSON files\n",
        "files = [\"multiple_datasets_1.json\", \"multiple_datasets_2.json\", \"multiple_datasets_3.json\", \"multiple_datasets_4.json\"]\n",
        "\n",
        "combined_data = []\n",
        "\n",
        "for file in files:\n",
        "    with open(file, 'r', encoding=\"utf-8\") as f:\n",
        "        data = json.load(f)\n",
        "        for item in data:\n",
        "            combined_entry = {\n",
        "                \"Question\": item[\"Context\"] + \" \" + item[\"Question\"],\n",
        "                \"Answer\": item[\"Answer\"]\n",
        "            }\n",
        "            combined_data.append(combined_entry)\n",
        "\n",
        "# Write combined data to a new JSON file\n",
        "with open(\"combined_output.json\", \"w\", encoding=\"utf-8\") as f:\n",
        "    json.dump(combined_data, f, indent=4, ensure_ascii=False)\n",
        "\n",
        "print(\"Combined JSON file created successfully!\")\n"
      ]
    }
  ],
  "metadata": {
    "colab": {
      "gpuType": "T4",
      "machine_shape": "hm",
      "provenance": []
    },
    "kernelspec": {
      "display_name": "Python 3",
      "name": "python3"
    },
    "language_info": {
      "codemirror_mode": {
        "name": "ipython",
        "version": 3
      },
      "file_extension": ".py",
      "mimetype": "text/x-python",
      "name": "python",
      "nbconvert_exporter": "python",
      "pygments_lexer": "ipython3",
      "version": "3.10.11"
    }
  },
  "nbformat": 4,
  "nbformat_minor": 0
}
